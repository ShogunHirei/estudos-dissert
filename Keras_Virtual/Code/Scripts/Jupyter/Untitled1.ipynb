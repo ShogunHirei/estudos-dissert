{
 "cells": [
  {
   "cell_type": "code",
   "execution_count": 55,
   "metadata": {},
   "outputs": [],
   "source": [
    "# estudos de operações no tensorflow\n",
    "import tensorflow as tf\n",
    "import numpy as np\n",
    "tf.reset_default_graph()"
   ]
  },
  {
   "cell_type": "code",
   "execution_count": 56,
   "metadata": {},
   "outputs": [
    {
     "name": "stdout",
     "output_type": "stream",
     "text": [
      "(30, 20)\n"
     ]
    }
   ],
   "source": [
    "samples = 30\n",
    "pnts = 20\n",
    "dim = 3\n",
    "np.random.seed(666)\n",
    "\n",
    "Uxyz = np.random.random(size=(samples,pnts,dim)).reshape(-1, pnts,dim)\n",
    "U_pred = np.random.random(size=(samples,pnts, dim)).reshape(-1, pnts,dim)\n",
    "Umag = np.array(np.sqrt(np.sum(np.square(Uxyz), axis=-1)))\n",
    "print(Umag.shape)"
   ]
  },
  {
   "cell_type": "code",
   "execution_count": 57,
   "metadata": {},
   "outputs": [
    {
     "name": "stdout",
     "output_type": "stream",
     "text": [
      "Tensor(\"Sqrt:0\", shape=(30, 20), dtype=float32)\n"
     ]
    }
   ],
   "source": [
    "y_p = tf.placeholder('float32', (samples, pnts,dim), name='pred')\n",
    "y_t = tf.placeholder('float32', (samples, pnts,dim), name='true')\n",
    "\n",
    "Mag_p = tf.sqrt(tf.reduce_sum(tf.square(y_p), axis=-1))\n",
    "print(Mag_p)\n"
   ]
  },
  {
   "cell_type": "code",
   "execution_count": 58,
   "metadata": {},
   "outputs": [],
   "source": [
    "with tf.Session() as sess:\n",
    "    results = tf.sqrt(tf.reduce_sum(tf.square(y_p), axis=-1))\n",
    "    final = results.eval(feed_dict={y_p:U_pred, y_t:Uxyz}).reshape(samples, pnts, -1)"
   ]
  },
  {
   "cell_type": "code",
   "execution_count": 59,
   "metadata": {
    "scrolled": true
   },
   "outputs": [
    {
     "name": "stdout",
     "output_type": "stream",
     "text": [
      "(30, 20, 1)\n"
     ]
    }
   ],
   "source": [
    "print(final.shape)"
   ]
  },
  {
   "cell_type": "code",
   "execution_count": null,
   "metadata": {},
   "outputs": [],
   "source": []
  }
 ],
 "metadata": {
  "kernelspec": {
   "display_name": "Python 3",
   "language": "python",
   "name": "python3"
  },
  "language_info": {
   "codemirror_mode": {
    "name": "ipython",
    "version": 3
   },
   "file_extension": ".py",
   "mimetype": "text/x-python",
   "name": "python",
   "nbconvert_exporter": "python",
   "pygments_lexer": "ipython3",
   "version": "3.6.8"
  }
 },
 "nbformat": 4,
 "nbformat_minor": 2
}

{
 "cells": [
  {
   "cell_type": "code",
   "execution_count": 1,
   "metadata": {},
   "outputs": [
    {
     "name": "stderr",
     "output_type": "stream",
     "text": [
      "Using TensorFlow backend.\n"
     ]
    }
   ],
   "source": [
    "import numpy as np\n",
    "from auxiliar_functions import TrainingData\n",
    "import re\n",
    "import os\n",
    "from keras.layers import Dense\n",
    "from keras.models import load_model, Sequential\n",
    "from keras import backend as K\n",
    "from pandas import read_csv, DataFrame, concat\n",
    "from sklearn.preprocessing import StandardScaler, MinMaxScaler\n",
    "from keras.callbacks import TensorBoard, EarlyStopping, ReduceLROnPlateau\n",
    "import tensorflow as tf\n",
    "from matplotlib import pyplot as plt\n",
    "from functools import partial, update_wrapper\n",
    "%matplotlib inline"
   ]
  },
  {
   "cell_type": "code",
   "execution_count": 2,
   "metadata": {},
   "outputs": [],
   "source": [
    "# Função loss Customizada para magnitude\n",
    "def mag_loss(y_pred, y_true, wall_val, xz_dict, name='mag_loss'):\n",
    "    \"\"\"\n",
    "        File: mag_isolated_prediction.py\n",
    "        Function Name: mag_loss\n",
    "        Summary: Função de custo para rede neural\n",
    "        Description: Loss que adiciona a diferença da magnitude como penalidade\n",
    "    \"\"\"\n",
    "    # Magnitude dos valores reais\n",
    "    M_t = K.sqrt(K.sum(K.square(y_true), axis=-1))\n",
    "    # Magnitude dos valores previstos\n",
    "    M_p = K.sqrt(K.sum(K.square(y_pred), axis=-1))\n",
    "    for indx, xz in enumerate(xz_dict):\n",
    "        if xz_dict[indx] == wall_val[indx]:\n",
    "#             y_pred[indx] = tf.zeros(3)\n",
    "            tf.Session().run(tf.assign(y_pred, tf.zeros(3)))\n",
    "        \n",
    "\n",
    "    return K.mean(K.square(y_pred - y_true), axis=-1) + K.abs(M_p - M_t)\n"
   ]
  },
  {
   "cell_type": "code",
   "execution_count": 3,
   "metadata": {},
   "outputs": [],
   "source": [
    "tf.reset_default_graph()"
   ]
  },
  {
   "cell_type": "code",
   "execution_count": 4,
   "metadata": {},
   "outputs": [],
   "source": [
    "model = Sequential()\n",
    "model.add(Dense(10, input_shape=(868,3), activation='tanh'))\n",
    "model.add(Dense(20, activation='tanh'))\n",
    "model.add(Dense(20, activation='tanh'))\n",
    "model.add(Dense(20, activation='tanh'))\n",
    "model.add(Dense(20, activation='tanh'))\n",
    "model.add(Dense(3, activation='tanh'))"
   ]
  },
  {
   "cell_type": "code",
   "execution_count": 5,
   "metadata": {},
   "outputs": [
    {
     "name": "stdout",
     "output_type": "stream",
     "text": [
      "Shape of X_TRAIN:  (77, 868, 3)\n",
      "Shape of Y_TRAIN:  (77, 868, 3)\n",
      "Shape of X_TEST:  (26, 868, 3)\n",
      "Shape of Y_TEST:  (26, 868, 3)\n"
     ]
    }
   ],
   "source": [
    "# Carregando dados para Treinamento\n",
    "ANN_FOLDER = '/home/lucashqr/Documentos/Cursos/Keras Training/'\\\n",
    "             'Virtual/estudos-dissert/Keras_Virtual/Ciclone/ANN_DATA/'\n",
    "\n",
    "DATA = TrainingData(ANN_FOLDER, scaler_dir='../../Models/')\n",
    "\n",
    "\n",
    "# Dados de treinamento\n",
    "X_TRAIN, X_TEST, Y_TRAIN, Y_TEST = DATA.data_gen(test_split=0.25, load_sc=False, save_sc=True)"
   ]
  },
  {
   "cell_type": "code",
   "execution_count": 6,
   "metadata": {},
   "outputs": [
    {
     "name": "stdout",
     "output_type": "stream",
     "text": [
      "[0.49961754 0.5011504 ]\n",
      "(868, 2)\n"
     ]
    },
    {
     "data": {
      "text/plain": [
       "[<matplotlib.lines.Line2D at 0x7f2a5704a518>]"
      ]
     },
     "execution_count": 6,
     "metadata": {},
     "output_type": "execute_result"
    },
    {
     "data": {
      "image/png": "[encoded data removed]",
      "text/plain": [
       "<matplotlib.figure.Figure at 0x7f2a56fddfd0>"
      ]
     },
     "metadata": {
      "needs_background": "light"
     },
     "output_type": "display_data"
    }
   ],
   "source": [
    "xz = X_TRAIN[..., :2][0]\n",
    "print(np.mean(xz, axis=0))\n",
    "#xz = DataFrame(xz)\n",
    "print(xz.shape)\n",
    "wall = []\n",
    "A = np.array([np.mean(X_TRAIN[..., 0]) - np.max(X_TRAIN[..., 1]), 0])\n",
    "for pnt in xz:    \n",
    "    B = np.array(pnt) - np.array([np.mean(X_TRAIN[..., 0]), np.mean(X_TRAIN[..., 1])])\n",
    "    if np.sqrt(np.sum(np.square(B))) >= 0.99*np.sqrt(np.sum(np.square(A))):\n",
    "        wall.append([pnt])\n",
    "wall = np.array(wall) # pontos da parede 'mais afastados do centro'\n",
    "\n",
    "plt.plot(xz[:,0], xz[:,1], 'r*')\n",
    "plt.plot(wall[..., 0], wall[..., 1], 'b*')"
   ]
  },
  {
   "cell_type": "code",
   "execution_count": 7,
   "metadata": {
    "scrolled": true
   },
   "outputs": [
    {
     "name": "stderr",
     "output_type": "stream",
     "text": [
      "/usr/local/lib/python3.6/dist-packages/ipykernel_launcher.py:14: DeprecationWarning: elementwise comparison failed; this will raise an error in the future.\n",
      "  \n"
     ]
    },
    {
     "name": "stdout",
     "output_type": "stream",
     "text": [
      "Epoch 1/30\n",
      "77/77 [==============================] - 1s 8ms/step - loss: 0.4436\n",
      "Epoch 2/30\n",
      "77/77 [==============================] - 0s 2ms/step - loss: 0.2974\n",
      "Epoch 3/30\n",
      "77/77 [==============================] - 0s 2ms/step - loss: 0.2913\n",
      "Epoch 4/30\n",
      "77/77 [==============================] - 0s 2ms/step - loss: 0.2875\n",
      "Epoch 5/30\n",
      "77/77 [==============================] - 0s 2ms/step - loss: 0.2883\n",
      "Epoch 6/30\n",
      "77/77 [==============================] - 0s 3ms/step - loss: 0.2844\n",
      "Epoch 7/30\n",
      "77/77 [==============================] - 0s 2ms/step - loss: 0.2803\n",
      "Epoch 8/30\n",
      "77/77 [==============================] - 0s 2ms/step - loss: 0.2824\n",
      "Epoch 9/30\n",
      "77/77 [==============================] - 0s 2ms/step - loss: 0.2765\n",
      "Epoch 10/30\n",
      "77/77 [==============================] - 0s 2ms/step - loss: 0.2769\n",
      "Epoch 11/30\n",
      "77/77 [==============================] - 0s 2ms/step - loss: 0.2750\n",
      "Epoch 12/30\n",
      "77/77 [==============================] - 0s 2ms/step - loss: 0.2696\n",
      "Epoch 13/30\n",
      "77/77 [==============================] - 0s 2ms/step - loss: 0.2667\n",
      "Epoch 14/30\n",
      "77/77 [==============================] - 0s 2ms/step - loss: 0.2643\n",
      "Epoch 15/30\n",
      "77/77 [==============================] - 0s 2ms/step - loss: 0.2593\n",
      "Epoch 16/30\n",
      "77/77 [==============================] - 0s 2ms/step - loss: 0.2547\n",
      "Epoch 17/30\n",
      "77/77 [==============================] - 0s 3ms/step - loss: 0.2497\n",
      "Epoch 18/30\n",
      "77/77 [==============================] - 0s 3ms/step - loss: 0.2428\n",
      "Epoch 19/30\n",
      "77/77 [==============================] - 0s 3ms/step - loss: 0.2420\n",
      "Epoch 20/30\n",
      "77/77 [==============================] - 0s 3ms/step - loss: 0.2331\n",
      "Epoch 21/30\n",
      "77/77 [==============================] - 0s 2ms/step - loss: 0.2308\n",
      "Epoch 22/30\n",
      "77/77 [==============================] - 0s 2ms/step - loss: 0.2329\n",
      "Epoch 23/30\n",
      "77/77 [==============================] - 0s 2ms/step - loss: 0.2277\n",
      "Epoch 24/30\n",
      "77/77 [==============================] - 0s 3ms/step - loss: 0.2266\n",
      "Epoch 25/30\n",
      "77/77 [==============================] - 0s 3ms/step - loss: 0.2261\n",
      "Epoch 26/30\n",
      "77/77 [==============================] - 0s 4ms/step - loss: 0.2212\n",
      "Epoch 27/30\n",
      "77/77 [==============================] - 0s 2ms/step - loss: 0.2249\n",
      "Epoch 28/30\n",
      "77/77 [==============================] - 0s 4ms/step - loss: 0.2207\n",
      "Epoch 29/30\n",
      "77/77 [==============================] - 0s 2ms/step - loss: 0.2198\n",
      "Epoch 30/30\n",
      "77/77 [==============================] - 0s 4ms/step - loss: 0.2183\n"
     ]
    },
    {
     "data": {
      "text/plain": [
       "<keras.callbacks.History at 0x7f2a56f3e978>"
      ]
     },
     "execution_count": 7,
     "metadata": {},
     "output_type": "execute_result"
    }
   ],
   "source": [
    "TB = TensorBoard(log_dir='./test_loss/Mag_zero_wall5/')\n",
    "# Interromper Treinamento\n",
    "ES = EarlyStopping(monitor='loss', min_delta=0.000001, patience=175,\n",
    "                   restore_best_weights=True, )\n",
    "\n",
    "# Reduzir taxa de aprendizagem\n",
    "RLRP = ReduceLROnPlateau(monitor='loss', factor=0.1, patience=70, verbose=1,\n",
    "                         min_lr=1E-10)\n",
    "\n",
    "\n",
    "new_mag = update_wrapper(partial(mag_loss, xz_dict=X_TRAIN[0,:2], wall_val=wall), mag_loss)\n",
    "\n",
    "model.compile(optimizer='rmsprop', loss=new_mag)\n",
    "\n",
    "model.fit(X_TRAIN, Y_TRAIN, epochs=30, batch_size=4, callbacks=[TB, ES, RLRP])"
   ]
  },
  {
   "cell_type": "code",
   "execution_count": 8,
   "metadata": {},
   "outputs": [],
   "source": [
    "\n",
    "# DF = [(read_csv(dado.path), re.findall(r'\\d+\\.?\\d*_', dado.path)[0][:-1])\n",
    "#               for dado in os.scandir(ANN_FOLDER)]\n",
    "\n",
    "# XZ = np.array([np.array(sample) for sample in\n",
    "#                        [dado[0][['Points:0', 'Points:2']] for dado in DF]])\n",
    "\n",
    "#         # Valores de velocidade com o mesmo shape dos outros inputs\n",
    "# INPUT_U = np.array([np.array(sample) for sample in\n",
    "#                             [[float(dado[1])] * len(XZ[0]) for dado in DF]]).reshape(len(XZ), -1, 1)\n",
    "\n",
    "# U_xyz = np.array([np.array(sample) for sample in\n",
    "#                           [dado[0][['U:0', 'U:1', 'U:2']] for dado in DF]])\n",
    "\n",
    "    "
   ]
  },
  {
   "cell_type": "code",
   "execution_count": 8,
   "metadata": {},
   "outputs": [
    {
     "name": "stdout",
     "output_type": "stream",
     "text": [
      "Gerando dados de previsão em ./test_loss/Mag_zero_wall5/\n",
      "[(868, 3)]\n",
      "Dados de previsão copiados!\n",
      "Calculando diferença...\n",
      "Escrevendo dados DIFERENÇA\n",
      "Dados de diferença copiados!\n"
     ]
    }
   ],
   "source": [
    "# Gerando dados para comparação com caso original\n",
    "BASE_DIR ='./test_loss/Mag_zero_wall5/'\n",
    "          \n",
    "print(f\"Gerando dados de previsão em {BASE_DIR}\")\n",
    "scaler_dict = DATA.return_scaler(load_sc=True)\n",
    "VEL_ARR = np.array([[10.0]*868]).reshape(-1, 1)\n",
    "VEL_ARR = scaler_dict['U_in'].transform(VEL_ARR).reshape(1, -1, 1)\n",
    "\n",
    "# Valores previstos para Ux, Uy e Uz\n",
    "PREDICs = model.predict(X_TRAIN[0, :].reshape(1, -1, 3))\n",
    "print([p.shape for p in PREDICs])\n",
    "\n",
    "\n",
    "# Retornando os dados para a escala anterior\n",
    "Ux = DataFrame(scaler_dict['Ux_scaler'].inverse_transform(PREDICs[..., 0]).reshape(-1), columns=['U:0'])\n",
    "Uy = DataFrame(scaler_dict['Uy_scaler'].inverse_transform(PREDICs[..., 1]).reshape(-1), columns=['U:1'])\n",
    "Uz = DataFrame(scaler_dict['Uz_scaler'].inverse_transform(PREDICs[..., 2]).reshape(-1), columns=['U:2'])\n",
    "\n",
    "# Inserindo valor dos pontos de Y\n",
    "XYZ = read_csv(os.scandir(ANN_FOLDER).__next__().path)[['Points:0', 'Points:1', 'Points:2']]\n",
    "\n",
    "# Geração de arquivo .CSV para leitura\n",
    "FILENAME = f'NEW_SLICE_10_Isolated.csv'\n",
    "\n",
    "SLICE_DATA = concat([Ux, Uy, Uz, XYZ], sort=True, axis=1)\n",
    "\n",
    "# Escrevendo o header no formato do paraview\n",
    "with open(BASE_DIR+FILENAME, 'w') as filename:\n",
    "    HEADER = ''\n",
    "    for col in list(SLICE_DATA.columns):\n",
    "        HEADER += '\\\"' + col + '\\\",'\n",
    "    filename.write(HEADER[:-1])\n",
    "    filename.write('\\n')\n",
    "\n",
    "SLICE_DATA.to_csv(BASE_DIR + FILENAME, index=False, header=False, mode='a')\n",
    "print(\"Dados de previsão copiados!\")\n",
    "\n",
    "\n",
    "# Diferença do valor previsto e o caso original\n",
    "print(\"Calculando diferença...\")\n",
    "ORIGIN_DATA = read_csv(ANN_FOLDER+'SLICE_DATA_U_10_0.csv')\n",
    "\n",
    "DIFF = SLICE_DATA[['U:0', 'U:1', 'U:2']] - ORIGIN_DATA[['U:0', 'U:1', 'U:2']]\n",
    "\n",
    "RESULT_DATA = concat([DIFF, XYZ], axis=1)\n",
    "\n",
    "print('Escrevendo dados DIFERENÇA')\n",
    "RESULT_DATA.to_csv(BASE_DIR + 'DIFF_SLICE_U_10.csv', index=False)\n",
    "print('Dados de diferença copiados!')\n"
   ]
  },
  {
   "cell_type": "code",
   "execution_count": 9,
   "metadata": {},
   "outputs": [],
   "source": [
    "model.save(BASE_DIR+'zero_wall_loss', overwrite=True, include_optimizer=True)"
   ]
  },
  {
   "cell_type": "code",
   "execution_count": null,
   "metadata": {},
   "outputs": [],
   "source": []
  }
 ],
 "metadata": {
  "kernelspec": {
   "display_name": "Python 3",
   "language": "python",
   "name": "python3"
  },
  "language_info": {
   "codemirror_mode": {
    "name": "ipython",
    "version": 3
   },
   "file_extension": ".py",
   "mimetype": "text/x-python",
   "name": "python",
   "nbconvert_exporter": "python",
   "pygments_lexer": "ipython3",
   "version": "3.6.8"
  }
 },
 "nbformat": 4,
 "nbformat_minor": 2
}
